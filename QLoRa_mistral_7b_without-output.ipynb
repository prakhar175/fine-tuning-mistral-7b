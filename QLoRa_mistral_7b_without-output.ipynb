{
 "cells": [
  {
   "cell_type": "code",
   "execution_count": null,
   "metadata": {
    "id": "kEllF3IDGZ4_"
   },
   "outputs": [],
   "source": [
    "from transformers import AutoModelForCausalLM, AutoTokenizer, pipeline\n",
    "from peft import prepare_model_for_kbit_training\n",
    "from peft import LoraConfig, get_peft_model\n",
    "from datasets import load_dataset\n",
    "import transformers"
   ]
  },
  {
   "cell_type": "code",
   "execution_count": null,
   "metadata": {
    "colab": {
     "base_uri": "https://localhost:8080/",
     "height": 309,
     "referenced_widgets": [
      "c4e80aae142e4e3e92125176ed4c4077",
      "690908bd0aa044ec984b212a98def02d",
      "b2ad296f837c409d9de995a8a34da5b8",
      "419b4b29079a4f62a498e92fea50aee6",
      "b8772a202a67472dba916bbb28e8548e",
      "fcd161af0e7d4ccca81bda9832c4029b",
      "74d1ab50baf74d32a422b71657efa1c8",
      "74da810ea2704cd7846e3a9db4624004",
      "209018bc7c214576a471f3c7095ce856",
      "05a4eaf24a9742f5a951427c1272a98f",
      "5115af6b96784f269af09f487067a862",
      "2d77f1ce5509498381a76fb5273c4dfa",
      "25fb110ed6354f89822f373d3c41d9a9",
      "6305e0f277df4803ad6bc935116dc92e",
      "b01f58fa1b3240c9aba24ec6ba44671a",
      "cc9f0fecc68c4124b13d18548b03fc95",
      "c80d17bb2f094379a459fdf70a1b60db",
      "d3f5dae30cb64d22b19ce582d167a844",
      "6ea91077c0654a749b98996be3249e0a",
      "032e4ddc53f44ec980357f4bb54e7f02",
      "f18431e7366a4d24a59e5ebcbd0ad4d0",
      "c977d42dd00b4059b7d7a7c336706b87"
     ]
    },
    "id": "bvadSDMsXRDR",
    "outputId": "58cdc638-2012-47ed-e33f-47ddf1c180e1"
   },
   "outputs": [],
   "source": [
    "model_name = \"TheBloke/Mistral-7B-Instruct-v0.2-GPTQ\"     #Quantized model\n",
    "model = AutoModelForCausalLM.from_pretrained(model_name,\n",
    "                                             device_map=\"auto\",\n",
    "                                             trust_remote_code=False,\n",
    "                                             revision=\"main\")"
   ]
  },
  {
   "cell_type": "code",
   "execution_count": null,
   "metadata": {
    "colab": {
     "base_uri": "https://localhost:8080/",
     "height": 145,
     "referenced_widgets": [
      "2cbb1cdef6f64d55a98bd71e2dfa8dcf",
      "b8ae1755a0e0453ca7446c1e4fbaeb2b",
      "17d2e16dc2ae46f5bc4a17619d7e8e75",
      "aa740f638cc5401e851e73f4b1dd41c8",
      "a48569a89e864bd386d94416672be06f",
      "b2fb55fcc06c4620a3d64b61f685dafe",
      "1478cad1552447b792125015350879e7",
      "d3b650ce6edd4e17b699f9be6d1ee96a",
      "a02b60fb4bb948f4a2b8c66c3b2a0135",
      "e40bb1c51d7c411ebb4662667b8cfba8",
      "f4a8526c52f54572b799a15f7940a353",
      "ca3329126676416da85f1364fd3a3323",
      "a0253e61fe304be48d5ffd760529d92a",
      "9bb40a8255cc47969ebb0b6d16d1d536",
      "5f771f98614b48379571ad72bfdf9505",
      "d643591959da41408040cac4ee161aed",
      "e8e25f0cf5af46cb8d167233d64e2cdf",
      "54b3714675884752bfdae9dd5ccde09c",
      "e2734a8ad557415db0b9efcd502784a1",
      "aefe0e184e844bf7b16cf342423fbd6a",
      "97614ff2d76c4355ac019ab659aa5a52",
      "6cc0b33239fa467083f4f918b2b20f08",
      "f54317cb6e8343ffaa227f5b3a69b0d7",
      "9b102c97c03941f9b86a8abefd1ab17c",
      "e22f3f02ec4f4174943c7bfad32d10e5",
      "0d6b2629bc404460a32ed60820661e4e",
      "a4aad76da0ca44ee882536bb64079d08",
      "913e8227897f4571bffff808295a00ba",
      "2f5ba0881413478fbf853ce61bb2dde4",
      "bfa6947fd878421180c2008c223926f9",
      "7ad393d14ff049f3a2bd811c2d07a6f2",
      "b1a009aa02634117a76591886fea7e75",
      "f2d188f75c6b4e6ab7d457acd3376a26",
      "5ff64da04b9c4d349b0d1c06b8a53776",
      "8eb1d77d533d41c591ebe97debc23377",
      "dacf4f66b37b4266b2e98102869e2400",
      "c2bdc4b3587c4d9fbee7a84cfdd68d45",
      "7104eeb6df4f418ead46ebf363e55316",
      "9ba955b53df1431e8e4e5402c3227a97",
      "346939f931cd4e2f8bd9b12ecd7b3402",
      "6fb6d131136645c1b8aadf53da07a0f5",
      "aedd5a6c4e004d4c8b2178897dc6e88a",
      "59c809564edc4ddcae30b133e2c902a4",
      "9868711bd5b645ec9ce5cf91d814ac66"
     ]
    },
    "id": "WWVSyl-TXbVh",
    "outputId": "ff7dd337-d2ce-4112-e911-418e07075537"
   },
   "outputs": [],
   "source": [
    "tokenizer = AutoTokenizer.from_pretrained(model_name, use_fast=True)"
   ]
  },
  {
   "cell_type": "code",
   "execution_count": null,
   "metadata": {
    "colab": {
     "base_uri": "https://localhost:8080/"
    },
    "id": "ifOwKhOhXrjr",
    "outputId": "360fa6da-9045-4046-e843-c123f6f2cdae"
   },
   "outputs": [],
   "source": [
    "model.eval()\n",
    "\n",
    "comment = \"Great content, thank you!\"\n",
    "prompt=f'''[INST] {comment} [/INST]'''    #As per docs\n",
    "\n",
    "inputs = tokenizer(prompt, return_tensors=\"pt\")\n",
    "\n",
    "outputs = model.generate(input_ids=inputs[\"input_ids\"].to(\"cuda\"), max_new_tokens=140)\n",
    "\n",
    "print(tokenizer.batch_decode(outputs)[0])"
   ]
  },
  {
   "cell_type": "code",
   "execution_count": null,
   "metadata": {
    "colab": {
     "base_uri": "https://localhost:8080/"
    },
    "id": "5TjYiTAzXsGN",
    "outputId": "ac812a0a-1739-4804-fb10-9438580c4793"
   },
   "outputs": [],
   "source": [
    "intstructions_string = f\"\"\"Engage-GPT, functioning as a virtual data science consultant on YouTube, communicates in clear, accessible language, escalating to technical depth upon request. \\\n",
    "It reacts to feedback aptly and ends responses with its signature '–Engage-GPT'. \\\n",
    "Engage-GPT will tailor the length of its responses to match the viewer's comment, providing concise acknowledgments to brief expressions of gratitude or feedback, \\\n",
    "thus keeping the interaction natural and engaging.\n",
    "\n",
    "Please respond to the following comment.\n",
    "\"\"\"\n",
    "\n",
    "prompt_template = lambda comment: f'''[INST] {intstructions_string} \\n{comment} \\n[/INST]'''\n",
    "\n",
    "prompt = prompt_template(comment)\n",
    "print(prompt)"
   ]
  },
  {
   "cell_type": "code",
   "execution_count": null,
   "metadata": {
    "colab": {
     "base_uri": "https://localhost:8080/"
    },
    "id": "Ejn6h2IMX2o0",
    "outputId": "79628968-0721-4f8a-8ade-ac6ae3d8a4fd"
   },
   "outputs": [],
   "source": [
    "inputs = tokenizer(prompt, return_tensors=\"pt\")\n",
    "\n",
    "if tokenizer.pad_token is None:\n",
    "    tokenizer.pad_token = tokenizer.eos_token\n",
    "\n",
    "outputs = model.generate(\n",
    "    input_ids=inputs[\"input_ids\"].to(\"cuda\"),\n",
    "    attention_mask=inputs[\"attention_mask\"].to(\"cuda\"),\n",
    "    pad_token_id=tokenizer.pad_token_id,\n",
    "    max_new_tokens=140\n",
    ")\n",
    "\n",
    "# Decode\n",
    "print(tokenizer.batch_decode(outputs, skip_special_tokens=True)[0])\n"
   ]
  },
  {
   "cell_type": "code",
   "execution_count": null,
   "metadata": {
    "id": "qAXkqRgrX5de"
   },
   "outputs": [],
   "source": [
    "model.train()\n",
    "\n",
    "model.gradient_checkpointing_enable()\n",
    "\n",
    "model = prepare_model_for_kbit_training(model)"
   ]
  },
  {
   "cell_type": "code",
   "execution_count": null,
   "metadata": {
    "colab": {
     "base_uri": "https://localhost:8080/"
    },
    "id": "zSnXQLk1X79e",
    "outputId": "14405213-a105-4018-8c95-f31fd60f51e8"
   },
   "outputs": [],
   "source": [
    "# LoRA config\n",
    "config = LoraConfig(\n",
    "    r=8,\n",
    "    lora_alpha=32,\n",
    "    target_modules=[\"q_proj\"],\n",
    "    lora_dropout=0.05,\n",
    "    bias=\"none\",\n",
    "    task_type=\"CAUSAL_LM\"\n",
    ")\n",
    "\n",
    "model = get_peft_model(model, config)\n",
    "\n",
    "model.print_trainable_parameters()"
   ]
  },
  {
   "cell_type": "code",
   "execution_count": null,
   "metadata": {
    "colab": {
     "base_uri": "https://localhost:8080/",
     "height": 177,
     "referenced_widgets": [
      "c0e9caec77bc4ecf851e9144a1b7db86",
      "6a54dd0fcc3d424c84466d62f446fc16",
      "483e824024934defaaf80a9d0af90af1",
      "2aedebd514bf4c06a51ab29e90340733",
      "c0f182aec8564e9a9471992f8275b621",
      "9e454aba3e5d43e4a35bf28f328fae51",
      "9e028dfcaed34948a05bae03868921c1",
      "60870543ba05491cbca26f3bcda18177",
      "c947d0b71927434aa1b9a2217008b70a",
      "c08024e011e94cd5a1aac74cfdeb4cc5",
      "20ef2b48a6d8486d85118f0f2d694330",
      "2cbc1807a8ce484c9bf1a7d1796bc342",
      "1d06e842d84143658cb37a9bb3bc6f3d",
      "df5d5e6ac8be40408b0c14d08255f290",
      "71ff30af4d524603b196f917777aee23",
      "6289dd0001c043bc8f34bce1f167cf9e",
      "77ecf06cceee4e0280255bf4eced68bc",
      "4c8290a3c8644e8aa3d7495c6603ac89",
      "ee55d5f999294466b5f49f7ebcde684c",
      "80b119c55774474bb824c23c15640fd2",
      "84d1dcab255544e98f930e64f9e0e891",
      "342441c035b94111ab6824451a1e890c",
      "6a83a1f2ddfd4bbf921d1f2587ca65be",
      "68ccd96846a9442eae0a14b21d71e4f9",
      "e5f4c5e4af6f412a984e016944d56c23",
      "cebd2060d97f4bbba4969cd410ff6c3c",
      "69ea420c9da643fe8fd25a9f0cb7b7a7",
      "528bdcf3851f46a68cb8963f983962dd",
      "f5ee3558f35e4580a8b3f681655be2e4",
      "3b56b052ca7a41ccb9ad2783f0bc9aab",
      "4ab4e802e2354752b46176577ef62f0c",
      "0737feb17c00428995d9a464d6f9dba2",
      "16d81559ffd149b79b9a7ad689dd6444",
      "e5421a99c48b407eb8a92ceab492de5f",
      "b888abfb0aeb4eef99ceba2377c779e6",
      "53e7c3f3ec8d48edae6ccf8c29d9a1ec",
      "1c3e6ea15ddc4436861049faf46f2271",
      "d246c46abca344e18b0c94ab5d1d9e87",
      "7d0fc9a124c44e2aa1dacd2c35c297f5",
      "3ed3b28484d1442a842d98c18736c055",
      "04f6ed4524794243bf77995c9f9ee3ab",
      "d3229cee542e464c87806f2c6e45b053",
      "705ff83ff0ff45c8923b91d2c1454c17",
      "b33db4b74cb24a5887e408d1445a76c8",
      "a62858e188e24e6f9f662ea660188c96",
      "d505862edb2b4d0aaa2a577224468169",
      "c37325ef982d45ec94e41bc2c17c88a5",
      "f625600d2c3040a7954089c7e7f21b19",
      "a3d2b8705dcf4895ac63ae767482e17b",
      "3143314b0bc14ba584d8c51935337e17",
      "a0d21737f344474c9cf1b1c5ee954a11",
      "e905cf196cec4c55a6724d08aa678008",
      "a0133c39272e4960b74fe20d855f7e25",
      "a74dd5c1d1a84945b378097b09cd6d62",
      "e5ea5cec90d4438f827eedd3383f4c6c"
     ]
    },
    "id": "NVLW5-7DX915",
    "outputId": "aa449f8c-1dd7-4be9-de3d-e242762fb040"
   },
   "outputs": [],
   "source": [
    "data = load_dataset(\"shawhin/shawgpt-youtube-comments\")"
   ]
  },
  {
   "cell_type": "code",
   "execution_count": null,
   "metadata": {
    "colab": {
     "base_uri": "https://localhost:8080/",
     "height": 81,
     "referenced_widgets": [
      "412d92662cc34bcbb77a1f509bbfd9f9",
      "9fbd452394cf49a9a53b1f4052d517bc",
      "74349f4ba8994a819532f524f0ae78c0",
      "1c59f7251dd34649b1bb2cffec49ca7b",
      "0814be96777345acb096f511700e6b29",
      "0f2fa5a7afda4c939529f068570cb4d6",
      "e7d12dde3b384d9491c268d943acb359",
      "2b8c05eac811455cb0c92e3a1ca45131",
      "a5225eca7ef64f3bbcaa1dd3f0d4791f",
      "6965831655dc4bd4aacbc2642749de54",
      "1b925c5a73854a12b43137d7710e139c",
      "9ef930595a8f499ebe3dfee632fe424d",
      "20289bfb5f9f47dfaed44a2bb9fe4ea4",
      "4dac59eda3ce4ed8961c6a36c361e88e",
      "42a5b935a5f64def93439253eb68f2c3",
      "a8b3cfb014164f46b838fbe5637f7920",
      "b8a05c3541c94850b81f87410e9d0073",
      "8f813f31783743f3ac7811799a3d3e0a",
      "a447404915804562ad99822b0f256a75",
      "8c4ba636576a41329f2e27fd0c2807f0",
      "3b34f377788e42a6b8ada31a6c9c678d",
      "5eab311fc04d463cb809fd0da6d433d0"
     ]
    },
    "id": "dZbRrfjeX-Nj",
    "outputId": "874f09e9-27e7-49a1-aae1-9d765c8680ba"
   },
   "outputs": [],
   "source": [
    "def tokenize_function(examples):\n",
    "    text = examples[\"example\"]\n",
    "\n",
    "    tokenizer.truncation_side = \"left\"\n",
    "    tokenized_inputs = tokenizer(\n",
    "        text,\n",
    "        return_tensors=\"np\",\n",
    "        truncation=True,\n",
    "        max_length=512\n",
    "    )\n",
    "\n",
    "    return tokenized_inputs\n",
    "\n",
    "tokenized_data = data.map(tokenize_function, batched=True)"
   ]
  },
  {
   "cell_type": "code",
   "execution_count": null,
   "metadata": {
    "id": "sq_I3baNYCVA"
   },
   "outputs": [],
   "source": [
    "tokenizer.pad_token = tokenizer.eos_token\n",
    "data_collator = transformers.DataCollatorForLanguageModeling(tokenizer, mlm=False)\n"
   ]
  },
  {
   "cell_type": "code",
   "execution_count": null,
   "metadata": {
    "id": "WTiWAN2wX_y4"
   },
   "outputs": [],
   "source": [
    "lr = 2e-4\n",
    "batch_size = 4\n",
    "num_epochs = 10\n",
    "training_args = transformers.TrainingArguments(\n",
    "    output_dir= \"PRAKHAR-gpt-ft\",\n",
    "    learning_rate=lr,\n",
    "    per_device_train_batch_size=batch_size,\n",
    "    per_device_eval_batch_size=batch_size,\n",
    "    num_train_epochs=num_epochs,\n",
    "    weight_decay=0.01,\n",
    "    logging_strategy=\"epoch\",\n",
    "    eval_strategy=\"epoch\",\n",
    "    save_strategy=\"epoch\",\n",
    "    load_best_model_at_end=True,\n",
    "    gradient_accumulation_steps=4,\n",
    "    warmup_steps=2,\n",
    "    fp16=True,\n",
    "    optim=\"paged_adamw_8bit\",\n",
    "\n",
    ")"
   ]
  },
  {
   "cell_type": "code",
   "execution_count": null,
   "metadata": {
    "colab": {
     "base_uri": "https://localhost:8080/",
     "height": 999
    },
    "id": "jySyr54YYGs2",
    "outputId": "1114ee3e-715b-4d03-90f7-b8f6a686eb77"
   },
   "outputs": [],
   "source": [
    "trainer = transformers.Trainer(\n",
    "    model=model,\n",
    "    train_dataset=tokenized_data[\"train\"],\n",
    "    eval_dataset=tokenized_data[\"test\"],\n",
    "    args=training_args,\n",
    "    data_collator=data_collator\n",
    ")\n",
    "\n",
    "\n",
    "model.config.use_cache = False\n",
    "trainer.train()\n",
    "\n",
    "model.config.use_cache = True"
   ]
  }
 ],
 "metadata": {
  "accelerator": "GPU",
  "colab": {
   "gpuType": "T4",
   "provenance": []
  },
  "kernelspec": {
   "display_name": "Python 3",
   "name": "python3"
  },
  "language_info": {
   "name": "python"
  }
 },
 "nbformat": 4,
 "nbformat_minor": 0
}
